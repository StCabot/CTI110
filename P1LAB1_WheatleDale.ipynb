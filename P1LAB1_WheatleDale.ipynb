{
  "nbformat": 4,
  "nbformat_minor": 0,
  "metadata": {
    "colab": {
      "provenance": []
    },
    "kernelspec": {
      "name": "python3",
      "display_name": "Python 3"
    },
    "language_info": {
      "name": "python"
    }
  },
  "cells": [
    {
      "cell_type": "code",
      "execution_count": null,
      "metadata": {
        "colab": {
          "base_uri": "https://localhost:8080/"
        },
        "id": "Cs3m2M7r-CF3",
        "outputId": "283d019e-2c12-4558-c593-257ecd7e1917"
      },
      "outputs": [
        {
          "output_type": "stream",
          "name": "stdout",
          "text": [
            "enter First Name:dale\n",
            "enter last Name:wheatle\n",
            "First Name: dale\n",
            "Last Name: wheatle\n",
            "Hello dale wheatle! Welcome to CTI-110😎😎🤣\n"
          ]
        }
      ],
      "source": [
        "#Dale Wheatle\n",
        "#2/05/2025\n",
        "#P1LAB1\n",
        "#using input and print functions\n",
        "\n",
        "#Get information from user\n",
        "f_name=input(\"enter First Name:\")\n",
        "l_name=input(\"enter last Name:\")\n",
        "\n",
        "print(\"First Name:\",f_name)\n",
        "print(\"Last Name:\",l_name)\n",
        "\n",
        "#Display greeting to user\n",
        "print(\"Hello\",f_name,l_name + \"!\",\"Welcome to CTI-110😎😎🤣\")"
      ]
    }
  ]
}